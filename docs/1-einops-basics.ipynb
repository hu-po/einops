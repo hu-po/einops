{
 "cells": [
  {
   "cell_type": "markdown",
   "metadata": {},
   "source": [
    "# Einops tutorial, part 1: basics\n",
    "\n",
    "<!-- <img src='http://arogozhnikov.github.io/images/einops/einops_logo_350x350.png' height=\"80\" /> -->\n",
    "\n",
    "## Welcome to einops-land!\n",
    "\n",
    "We don't write \n",
    "```python\n",
    "y = x.transpose(0, 2, 3, 1)\n",
    "```\n",
    "We write comprehensible code\n",
    "```python\n",
    "y = rearrange(x, 'b c h w -> b h w c')\n",
    "```\n",
    "\n",
    "\n",
    "`einops` supports widely used tensor packages (such as `numpy`, `pytorch`, `chainer`, `gluon`, `tensorflow`), and extends them.\n",
    "\n",
    "## What's in this tutorial?\n",
    "\n",
    "- fundamentals: reordering, composition and decomposition of axes\n",
    "- operations: `rearrange`, `reduce`, `repeat`\n",
    "- how much you can do with a single operation!\n"
   ]
  },
  {
   "cell_type": "markdown",
   "metadata": {},
   "source": [
    "## Preparations"
   ]
  },
  {
   "cell_type": "markdown",
   "metadata": {},
   "source": [
    "## Preparations"
   ]
  },
  {
   "cell_type": "code",
   "execution_count": null,
   "metadata": {},
   "outputs": [],
   "source": [
    "# Examples are given for numpy. This code also setups ipython/jupyter\n",
    "# so that numpy arrays in the output are displayed as images\n",
    "import numpy\n",
    "from utils import display_np_arrays_as_images\n",
    "display_np_arrays_as_images()"
   ]
  },
  {
   "cell_type": "markdown",
   "metadata": {},
   "source": [
    "## Load a batch of images to play with"
   ]
  },
  {
   "cell_type": "code",
   "execution_count": null,
   "metadata": {},
   "outputs": [],
   "source": [
    "ims = numpy.load('./resources/test_images.npy', allow_pickle=False)\n",
    "# There are 6 images of shape 96x96 with 3 color channels packed into tensor\n",
    "print(ims.shape, ims.dtype)"
   ]
  },
  {
   "cell_type": "code",
   "execution_count": null,
   "metadata": {
    "pycharm": {
     "name": "#%%\n"
    }
   },
   "outputs": [],
   "source": [
    "# display the first image (whole 4d tensor can't be rendered)\n",
    "ims[1]"
   ]
  },
  {
   "cell_type": "code",
   "execution_count": null,
   "metadata": {
    "pycharm": {
     "name": "#%%\n"
    }
   },
   "outputs": [],
   "source": [
    "# second image in a batch\n",
    "ims[-1]"
   ]
  },
  {
   "cell_type": "code",
   "execution_count": null,
   "metadata": {
    "pycharm": {
     "name": "#%%\n"
    }
   },
   "outputs": [],
   "source": [
    "# we'll use three operations\n",
    "from einops import rearrange, reduce, repeat"
   ]
  },
  {
   "cell_type": "code",
   "execution_count": null,
   "metadata": {},
   "outputs": [],
   "source": [
    "# rearrange, as its name suggests, rearranges elements\n",
    "# below we swapped height and width.\n",
    "# In other words, transposed first two axes (dimensions)\n",
    "rearrange(ims[1], 'h w c -> w h c')"
   ]
  },
  {
   "cell_type": "markdown",
   "metadata": {},
   "source": [
    "## Composition of axes\n",
    "transposition is very common and useful, but let's move to other capabilities provided by einops"
   ]
  },
  {
   "cell_type": "code",
   "execution_count": null,
   "metadata": {},
   "outputs": [],
   "source": [
    "# einops allows seamlessly composing batch and height to a new height dimension\n",
    "# We just rendered all images by collapsing to 3d tensor!\n",
    "rearrange(ims, 'b h w c -> (b h) (w c)')"
   ]
  },
  {
   "cell_type": "code",
   "execution_count": null,
   "metadata": {},
   "outputs": [],
   "source": [
    "# or compose a new dimension of batch and width\n",
    "rearrange(ims, 'b h w c -> h    (b w) c ')"
   ]
  },
  {
   "cell_type": "code",
   "execution_count": null,
   "metadata": {
    "pycharm": {
     "name": "#%%\n"
    }
   },
   "outputs": [],
   "source": [
    "# resulting dimensions are computed very simply\n",
    "# length of newly composed axis is a product of components\n",
    "# [6, 96, 96, 3] -> [96, (6 * 96), 3]\n",
    "rearrange(ims, 'b h w c -> h (b w) c').shape"
   ]
  },
  {
   "cell_type": "code",
   "execution_count": null,
   "metadata": {
    "pycharm": {
     "name": "#%%\n"
    }
   },
   "outputs": [],
   "source": [
    "# we can compose more than two axes. \n",
    "# let's flatten 4d array into 1d, resulting array has as many elements as the original\n",
    "rearrange(ims, 'b h w c -> (b h w c)').shape"
   ]
  },
  {
   "cell_type": "markdown",
   "metadata": {
    "pycharm": {
     "name": "#%% md\n"
    }
   },
   "source": [
    "## Decomposition of axis"
   ]
  },
  {
   "cell_type": "code",
   "execution_count": null,
   "metadata": {
    "pycharm": {
     "name": "#%%\n"
    }
   },
   "outputs": [],
   "source": [
    "# decomposition is the inverse process - represent an axis as a combination of new axes\n",
    "# several decompositions possible, so b1=2 is to decompose 6 to b1=2 and b2=3\n",
    "rearrange(ims, '(b1 b2) h w c -> b1 b2 h w c ', b1=6).shape"
   ]
  },
  {
   "cell_type": "code",
   "execution_count": null,
   "metadata": {},
   "outputs": [],
   "source": [
    "# finally, combine composition and decomposition:\n",
    "rearrange(ims, '(b1 b2) h w c -> (b1 h) (b2 w) c ', b1=2)"
   ]
  },
  {
   "cell_type": "code",
   "execution_count": null,
   "metadata": {
    "pycharm": {
     "name": "#%%\n"
    }
   },
   "outputs": [],
   "source": [
    "# slightly different composition: b1 is merged with width, b2 with height\n",
    "# ... so letters are ordered by w then by h\n",
    "rearrange(ims, '(b1 b2) h w c -> (b2 h) (b1 w) c ', b1=2)"
   ]
  },
  {
   "cell_type": "code",
   "execution_count": null,
   "metadata": {},
   "outputs": [],
   "source": [
    "# move part of width dimension to height. \n",
    "# we should call this width-to-height as image width shrunk by 2 and height doubled. \n",
    "# but all pixels are the same!\n",
    "# Can you write reverse operation (height-to-width)?\n",
    "rearrange(ims, 'b h (w w2) c -> (h w2) (b w) c', w2=2)"
   ]
  },
  {
   "cell_type": "code",
   "execution_count": null,
   "metadata": {},
   "outputs": [],
   "source": [
    "rearrange(ims, 'b h (w w2) c -> (h w2) (b w) c', w2=2).shape"
   ]
  },
  {
   "cell_type": "code",
   "execution_count": null,
   "metadata": {},
   "outputs": [],
   "source": [
    "# height to width\n",
    "rearrange(ims, 'b (h h2) w c -> (b h) (w h2) c', h2=2)"
   ]
  },
  {
   "cell_type": "markdown",
   "metadata": {},
   "source": [
    "## Order of axes matters"
   ]
  },
  {
   "cell_type": "code",
   "execution_count": null,
   "metadata": {},
   "outputs": [],
   "source": [
    "# compare with the next example\n",
    "rearrange(ims, 'b h w c -> h (b w) c')"
   ]
  },
  {
   "cell_type": "code",
   "execution_count": null,
   "metadata": {
    "pycharm": {
     "name": "#%%\n"
    }
   },
   "outputs": [],
   "source": [
    "# order of axes in composition is different\n",
    "# rule is just as for digits in the number: leftmost digit is the most significant, \n",
    "# while neighboring numbers differ in the rightmost axis.\n",
    "\n",
    "# you can also think of this as lexicographic sort\n",
    "rearrange(ims, 'b h w c -> h (w b) c')"
   ]
  },
  {
   "cell_type": "code",
   "execution_count": null,
   "metadata": {
    "pycharm": {
     "name": "#%%\n"
    }
   },
   "outputs": [],
   "source": [
    "# what if b1 and b2 are reordered before composing to width?\n",
    "# rearrange(ims, '(b1 b2) h w c -> h (b1 b2 w) c ', b1=2) # produces 'einops'\n",
    "rearrange(ims, '(b1 b2) h w c -> h (b2 b1 w) c ', b1=2) # produces 'eoipns'"
   ]
  },
  {
   "cell_type": "markdown",
   "metadata": {
    "pycharm": {
     "name": "#%% md\n"
    }
   },
   "source": [
    "## Meet einops.reduce\n",
    "\n",
    "In einops-land you don't need to guess what happened\n",
    "```python\n",
    "x.mean(-1)\n",
    "```\n",
    "Because you write what the operation does\n",
    "```python\n",
    "reduce(x, 'b h w c -> b h w', 'mean')\n",
    "```\n",
    "\n",
    "if axis is not present in the output — you guessed it — axis was reduced."
   ]
  },
  {
   "cell_type": "code",
   "execution_count": null,
   "metadata": {},
   "outputs": [],
   "source": [
    "# average over batch\n",
    "reduce(ims, 'b h w c -> h w c', 'min')"
   ]
  },
  {
   "cell_type": "code",
   "execution_count": null,
   "metadata": {},
   "outputs": [],
   "source": [
    "# the previous is identical to familiar:\n",
    "ims.mean(axis=0)\n",
    "# but is so much more readable"
   ]
  },
  {
   "cell_type": "code",
   "execution_count": null,
   "metadata": {
    "pycharm": {
     "name": "#%%\n"
    }
   },
   "outputs": [],
   "source": [
    "# Example of reducing of several axes \n",
    "# besides mean, there are also min, max, sum, prod\n",
    "reduce(ims, 'b h w c -> h w', 'min')"
   ]
  },
  {
   "cell_type": "code",
   "execution_count": null,
   "metadata": {},
   "outputs": [],
   "source": [
    "# this is mean-pooling with 2x2 kernel\n",
    "# image is split into 2x2 patches, each patch is averaged\n",
    "reduce(ims, 'b (h h2) (w w2) c -> h (b w) c', 'mean', h2=4, w2=4)"
   ]
  },
  {
   "cell_type": "code",
   "execution_count": null,
   "metadata": {
    "pycharm": {
     "name": "#%%\n"
    }
   },
   "outputs": [],
   "source": [
    "# max-pooling is similar\n",
    "# result is not as smooth as for mean-pooling\n",
    "reduce(ims, 'b (h h2) (w w2) c -> h (b w) c', 'max', h2=2, w2=2)"
   ]
  },
  {
   "cell_type": "code",
   "execution_count": null,
   "metadata": {
    "pycharm": {
     "name": "#%%\n"
    }
   },
   "outputs": [],
   "source": [
    "# yet another example. Can you compute result shape?\n",
    "reduce(ims, '(b1 b2) h w c -> (b2 h) (b1 w)', 'mean', b1=2)"
   ]
  },
  {
   "cell_type": "markdown",
   "metadata": {
    "jupyter": {
     "outputs_hidden": false
    },
    "pycharm": {
     "name": "#%%\n"
    }
   },
   "source": [
    "## Stack and concatenate"
   ]
  },
  {
   "cell_type": "code",
   "execution_count": null,
   "metadata": {
    "pycharm": {
     "name": "#%%\n"
    }
   },
   "outputs": [],
   "source": [
    "# rearrange can also take care of lists of arrays with the same shape\n",
    "x = list(ims)\n",
    "print(type(x), 'with', len(x), 'tensors of shape', x[0].shape)\n",
    "# that's how we can stack inputs\n",
    "# \"list axis\" becomes first (\"b\" in this case), and we left it there\n",
    "rearrange(x, 'b h w c -> b h w c').shape"
   ]
  },
  {
   "cell_type": "code",
   "execution_count": null,
   "metadata": {
    "pycharm": {
     "name": "#%%\n"
    }
   },
   "outputs": [],
   "source": [
    "# but new axis can appear in the other place:\n",
    "rearrange(x, 'b h w c -> h w c b').shape"
   ]
  },
  {
   "cell_type": "code",
   "execution_count": null,
   "metadata": {
    "collapsed": false,
    "jupyter": {
     "outputs_hidden": false
    },
    "pycharm": {
     "name": "#%%\n"
    }
   },
   "outputs": [],
   "source": [
    "# that's equivalent to numpy stacking, but written more explicitly\n",
    "numpy.array_equal(rearrange(x, 'b h w c -> h w c b'), numpy.stack(x, axis=3))"
   ]
  },
  {
   "cell_type": "code",
   "execution_count": null,
   "metadata": {
    "pycharm": {
     "name": "#%%\n"
    }
   },
   "outputs": [],
   "source": [
    "# ... or we can concatenate along axes\n",
    "rearrange(x, 'b h w c -> h (b w) c').shape"
   ]
  },
  {
   "cell_type": "code",
   "execution_count": null,
   "metadata": {
    "pycharm": {
     "name": "#%%\n"
    }
   },
   "outputs": [],
   "source": [
    "# which is equivalent to concatenation\n",
    "numpy.array_equal(rearrange(x, 'b h w c -> h (b w) c'), numpy.concatenate(x, axis=1))"
   ]
  },
  {
   "cell_type": "markdown",
   "metadata": {},
   "source": [
    "## Addition or removal of axes\n",
    "\n",
    "You can write 1 to create a new axis of length 1. Similarly you can remove such axis.\n",
    "\n",
    "There is also a synonym `()` that you can use. That's a composition of zero axes and it also has a unit length."
   ]
  },
  {
   "cell_type": "code",
   "execution_count": null,
   "metadata": {},
   "outputs": [],
   "source": [
    "x = rearrange(ims, 'b h w c -> b 1 h w 1 c') # functionality of numpy.expand_dims\n",
    "print(x.shape)\n",
    "print(rearrange(x, 'b 1 h w 1 c -> b h w c').shape) # functionality of numpy.squeeze"
   ]
  },
  {
   "cell_type": "code",
   "execution_count": null,
   "metadata": {},
   "outputs": [],
   "source": [
    "# compute max in each image individually, then show a difference \n",
    "x = reduce(ims, 'b h w c -> b () () c', 'max') - ims\n",
    "rearrange(x, 'b h w c -> h (b w) c')"
   ]
  },
  {
   "cell_type": "markdown",
   "metadata": {},
   "source": [
    "## Repeating elements\n",
    "\n",
    "Third operation we introduce is `repeat`"
   ]
  },
  {
   "cell_type": "code",
   "execution_count": null,
   "metadata": {},
   "outputs": [],
   "source": [
    "# repeat along a new axis. New axis can be placed anywhere\n",
    "repeat(ims[0], 'h w c -> h new_axis w c', new_axis=5).shape"
   ]
  },
  {
   "cell_type": "code",
   "execution_count": null,
   "metadata": {},
   "outputs": [],
   "source": [
    "# shortcut\n",
    "repeat(ims[0], 'h w c -> h 5 w c').shape"
   ]
  },
  {
   "cell_type": "code",
   "execution_count": null,
   "metadata": {},
   "outputs": [],
   "source": [
    "# repeat along w (existing axis)\n",
    "repeat(ims[0], 'h w c -> (3 h) (repeat w) c', repeat=3)"
   ]
  },
  {
   "cell_type": "code",
   "execution_count": null,
   "metadata": {},
   "outputs": [],
   "source": [
    "# repeat along two existing axes\n",
    "repeat(ims[0], 'h w c -> (2 h) (2 w) c')"
   ]
  },
  {
   "cell_type": "code",
   "execution_count": null,
   "metadata": {},
   "outputs": [],
   "source": [
    "# order of axes matters as usual - you can repeat each element (pixel) 3 times \n",
    "# by changing order in parenthesis\n",
    "repeat(ims[0], 'h w c -> h (w repeat) c', repeat=3)"
   ]
  },
  {
   "cell_type": "markdown",
   "metadata": {},
   "source": [
    "Note: `repeat` operation covers functionality identical to `numpy.repeat`, `numpy.tile` and actually more than that."
   ]
  },
  {
   "cell_type": "markdown",
   "metadata": {
    "pycharm": {
     "name": "#%% md\n"
    }
   },
   "source": [
    "## Reduce ⇆ repeat\n",
    "\n",
    "reduce and repeat are like opposite of each other: first one reduces amount of elements, second one increases.\n",
    "\n",
    "In the following example each image is repeated first, then we reduce over new axis to get back original tensor. Notice that operation patterns are \"reverse\" of each other"
   ]
  },
  {
   "cell_type": "code",
   "execution_count": null,
   "metadata": {},
   "outputs": [],
   "source": [
    "repeated = repeat(ims, 'b h w c -> b h new_axis w c', new_axis=2)\n",
    "reduced = reduce(repeated, 'b h new_axis w c -> b h w c', 'min')\n",
    "assert numpy.array_equal(ims, reduced)"
   ]
  },
  {
   "cell_type": "markdown",
   "metadata": {},
   "source": [
    "## Fancy examples in random order\n",
    "\n",
    "(a.k.a. mad designer gallery)"
   ]
  },
  {
   "cell_type": "code",
   "execution_count": null,
   "metadata": {},
   "outputs": [],
   "source": [
    "# interweaving pixels of different pictures\n",
    "# all letters are observable\n",
    "rearrange(ims, '(b1 b2) h w c -> (h b1) (w b2) c ', b1=2)"
   ]
  },
  {
   "cell_type": "code",
   "execution_count": null,
   "metadata": {},
   "outputs": [],
   "source": [
    "# interweaving along vertical for couples of images\n",
    "rearrange(ims, '(b1 b2) h w c -> (h b1) (b2 w) c', b1=2)"
   ]
  },
  {
   "cell_type": "code",
   "execution_count": null,
   "metadata": {},
   "outputs": [],
   "source": [
    "# interweaving lines for couples of images\n",
    "# exercise: achieve the same result without einops in your favourite framework\n",
    "reduce(ims, '(b1 b2) h w c -> h (b2 w) c', 'max', b1=2)"
   ]
  },
  {
   "cell_type": "code",
   "execution_count": null,
   "metadata": {},
   "outputs": [],
   "source": [
    "# color can be also composed into dimension\n",
    "# ... while image is downsampled\n",
    "reduce(ims, 'b (h 2) (w 2) c -> (c h) (b w)', 'mean')"
   ]
  },
  {
   "cell_type": "code",
   "execution_count": null,
   "metadata": {},
   "outputs": [],
   "source": [
    "# disproportionate resize\n",
    "reduce(ims, 'b (h 4) (w 3) c -> (h) (b w)', 'mean')"
   ]
  },
  {
   "cell_type": "code",
   "execution_count": null,
   "metadata": {},
   "outputs": [],
   "source": [
    "# spilt each image in two halves, compute mean of the two\n",
    "reduce(ims, 'b (h1 h2) w c -> h2 (b w)', 'mean', h1=2)"
   ]
  },
  {
   "cell_type": "code",
   "execution_count": null,
   "metadata": {},
   "outputs": [],
   "source": [
    "# split in small patches and transpose each patch\n",
    "rearrange(ims, 'b (h1 h2) (w1 w2) c -> (h1 w2) (b w1 h2) c', h2=8, w2=8)"
   ]
  },
  {
   "cell_type": "code",
   "execution_count": null,
   "metadata": {},
   "outputs": [],
   "source": [
    "# stop me someone!\n",
    "rearrange(ims, 'b (h1 h2 h3) (w1 w2 w3) c -> (h1 w2 h3) (b w1 h2 w3) c', h2=2, w2=2, w3=2, h3=2)"
   ]
  },
  {
   "cell_type": "code",
   "execution_count": null,
   "metadata": {},
   "outputs": [],
   "source": [
    "rearrange(ims, '(b1 b2) (h1 h2) (w1 w2) c -> (h1 b1 h2) (w1 b2 w2) c', h1=3, w1=3, b2=3)"
   ]
  },
  {
   "cell_type": "code",
   "execution_count": null,
   "metadata": {},
   "outputs": [],
   "source": [
    "# patterns can be arbitrarily complicated\n",
    "reduce(ims, '(b1 b2) (h1 h2 h3) (w1 w2 w3) c -> (h1 w1 h3) (b1 w2 h2 w3 b2) c', 'mean', \n",
    "       h2=2, w1=2, w3=2, h3=2, b2=2)"
   ]
  },
  {
   "cell_type": "code",
   "execution_count": null,
   "metadata": {},
   "outputs": [],
   "source": [
    "# subtract background in each image individually and normalize\n",
    "# pay attention to () - this is composition of 0 axis, a dummy axis with 1 element.\n",
    "im2 = reduce(ims, 'b h w c -> b () () c', 'max') - ims\n",
    "im2 /= reduce(im2, 'b h w c -> b () () c', 'max')\n",
    "rearrange(im2, 'b h w c -> h (b w) c')"
   ]
  },
  {
   "cell_type": "code",
   "execution_count": null,
   "metadata": {},
   "outputs": [],
   "source": [
    "# pixelate: first downscale by averaging, then upscale back using the same pattern\n",
    "averaged = reduce(ims, 'b (h h2) (w w2) c -> b h w c', 'mean', h2=6, w2=8)\n",
    "repeat(averaged, 'b h w c -> (h h2) (b w w2) c', h2=6, w2=8)"
   ]
  },
  {
   "cell_type": "code",
   "execution_count": null,
   "metadata": {},
   "outputs": [],
   "source": [
    "rearrange(ims, 'b h w c -> w (b h) c')"
   ]
  },
  {
   "cell_type": "code",
   "execution_count": null,
   "metadata": {},
   "outputs": [],
   "source": [
    "# let's bring color dimension as part of horizontal axis\n",
    "# at the same time horizontal axis is downsampled by 2x\n",
    "reduce(ims, 'b (h h2) (w w2) c -> (h w2) (b w c)', 'mean', h2=3, w2=3)"
   ]
  },
  {
   "cell_type": "markdown",
   "metadata": {},
   "source": [
    "## Ok, numpy is fun, but how do I use einops with some other framework?\n",
    "\n",
    "If that's what you've done with `ims` being numpy array:\n",
    "```python\n",
    "rearrange(ims, 'b h w c -> w (b h) c')\n",
    "```\n",
    "That's how you adapt the code for other frameworks:\n",
    "\n",
    "```python\n",
    "# pytorch:\n",
    "rearrange(ims, 'b h w c -> w (b h) c')\n",
    "# tensorflow:\n",
    "rearrange(ims, 'b h w c -> w (b h) c')\n",
    "# chainer:\n",
    "rearrange(ims, 'b h w c -> w (b h) c')\n",
    "# gluon:\n",
    "rearrange(ims, 'b h w c -> w (b h) c')\n",
    "# cupy:\n",
    "rearrange(ims, 'b h w c -> w (b h) c')\n",
    "# jax:\n",
    "rearrange(ims, 'b h w c -> w (b h) c')\n",
    "\n",
    "...well, you got the idea.\n",
    "```\n",
    "\n",
    "Einops allows backpropagation as if all operations were native to framework.\n",
    "Operations do not change when moving to another framework - einops notation is universal"
   ]
  },
  {
   "cell_type": "markdown",
   "metadata": {
    "pycharm": {
     "name": "#%% md\n"
    }
   },
   "source": [
    "# Summary\n",
    "\n",
    "- `rearrange` doesn't change number of elements and covers different numpy functions (like `transpose`, `reshape`, `stack`, `concatenate`,  `squeeze` and `expand_dims`)\n",
    "- `reduce` combines same reordering syntax with reductions (`mean`, `min`, `max`, `sum`, `prod`, and any others)\n",
    "- `repeat` additionally covers repeating and tiling\n",
    "- composition and decomposition of axes are a corner stone, they can and should be used together\n",
    "\n",
    "\n",
    "\n",
    "- [Second part of tutorial](https://github.com/arogozhnikov/einops/tree/master/docs) shows how einops works with other frameworks\n",
    "- [Third part of tutorial](https://arogozhnikov.github.io/einops/pytorch-examples.html) shows how to improve your DL code with einops"
   ]
  }
 ],
 "metadata": {
  "kernelspec": {
   "display_name": "Python 3",
   "language": "python",
   "name": "python3"
  },
  "language_info": {
   "codemirror_mode": {
    "name": "ipython",
    "version": 3
   },
   "file_extension": ".py",
   "mimetype": "text/x-python",
   "name": "python",
   "nbconvert_exporter": "python",
   "pygments_lexer": "ipython3",
   "version": "3.12.1"
  }
 },
 "nbformat": 4,
 "nbformat_minor": 4
}
